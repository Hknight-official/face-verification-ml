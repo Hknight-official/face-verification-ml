{
 "cells": [
  {
   "cell_type": "code",
   "execution_count": 4,
   "id": "initial_id",
   "metadata": {
    "collapsed": true,
    "ExecuteTime": {
     "end_time": "2024-07-08T01:38:58.283827212Z",
     "start_time": "2024-07-08T01:38:58.240985354Z"
    }
   },
   "outputs": [],
   "source": [
    "import os\n",
    "import cv2\n",
    "import numpy as np\n",
    "import joblib"
   ]
  },
  {
   "cell_type": "code",
   "execution_count": 5,
   "outputs": [],
   "source": [
    "def load_and_detect_faces(folder, new_folder, face_cascade):\n",
    "    if not os.path.exists(new_folder):\n",
    "        os.makedirs(new_folder)\n",
    "    list_person_folders = os.listdir(folder)\n",
    "    print(\"number: persons: \", len(list_person_folders))\n",
    "    for person_name in list_person_folders[:int(len(list_person_folders)*0.01)]:\n",
    "        person_folder = os.path.join(folder, person_name)\n",
    "        if os.path.isdir(person_folder):\n",
    "            new_person_folder = os.path.join(new_folder, person_name)\n",
    "            if not os.path.exists(new_person_folder):\n",
    "                os.makedirs(new_person_folder)\n",
    "                \n",
    "            for filename in os.listdir(person_folder):\n",
    "                img_path = os.path.join(person_folder, filename)\n",
    "                img = cv2.imread(img_path)\n",
    "                gray = cv2.cvtColor(img, cv2.COLOR_BGR2GRAY)\n",
    "                \n",
    "                faces = face_cascade.detectMultiScale(gray, scaleFactor=1.1, minNeighbors=5, minSize=(30, 30))\n",
    "                for (x, y, w, h) in faces:\n",
    "                    face = gray[y:y+h, x:x+w]\n",
    "                    resized_face = cv2.resize(face, (100, 100))  # Resize to 100x100 pixels\n",
    "                    new_img_path = os.path.join(new_person_folder, filename)\n",
    "                    cv2.imwrite(new_img_path, resized_face)"
   ],
   "metadata": {
    "collapsed": false,
    "ExecuteTime": {
     "end_time": "2024-07-08T01:38:58.284201172Z",
     "start_time": "2024-07-08T01:38:58.283674820Z"
    }
   },
   "id": "3583763d8d1f3756"
  },
  {
   "cell_type": "code",
   "execution_count": 6,
   "outputs": [
    {
     "name": "stdout",
     "output_type": "stream",
     "text": [
      "number: persons:  5750\n"
     ]
    }
   ],
   "source": [
    "face_cascade = cv2.CascadeClassifier(cv2.data.haarcascades + 'haarcascade_frontalface_default.xml')\n",
    "load_and_detect_faces('./lfw', './data', face_cascade)"
   ],
   "metadata": {
    "collapsed": false,
    "ExecuteTime": {
     "end_time": "2024-07-08T01:38:59.397242868Z",
     "start_time": "2024-07-08T01:38:58.283872953Z"
    }
   },
   "id": "fad97f688c03187e"
  },
  {
   "cell_type": "code",
   "execution_count": 6,
   "outputs": [],
   "source": [],
   "metadata": {
    "collapsed": false,
    "ExecuteTime": {
     "end_time": "2024-07-08T01:38:59.401199932Z",
     "start_time": "2024-07-08T01:38:59.399275337Z"
    }
   },
   "id": "6e7b616b1b6aaa6c"
  }
 ],
 "metadata": {
  "kernelspec": {
   "display_name": "Python 3",
   "language": "python",
   "name": "python3"
  },
  "language_info": {
   "codemirror_mode": {
    "name": "ipython",
    "version": 2
   },
   "file_extension": ".py",
   "mimetype": "text/x-python",
   "name": "python",
   "nbconvert_exporter": "python",
   "pygments_lexer": "ipython2",
   "version": "2.7.6"
  }
 },
 "nbformat": 4,
 "nbformat_minor": 5
}
